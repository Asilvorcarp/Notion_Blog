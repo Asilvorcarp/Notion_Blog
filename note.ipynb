{
 "metadata": {
  "language_info": {
   "codemirror_mode": {
    "name": "ipython",
    "version": 3
   },
   "file_extension": ".py",
   "mimetype": "text/x-python",
   "name": "python",
   "nbconvert_exporter": "python",
   "pygments_lexer": "ipython3",
   "version": "3.9.2"
  },
  "orig_nbformat": 4,
  "kernelspec": {
   "name": "python3",
   "display_name": "Python 3.9.2 64-bit ('TF2.1': conda)"
  },
  "interpreter": {
   "hash": "c7c9e6b370fc6b2d8f9b26163bf6b30e922549e459722656e2c8dc2c38eda299"
  }
 },
 "nbformat": 4,
 "nbformat_minor": 2,
 "cells": [
  {
   "cell_type": "code",
   "execution_count": 18,
   "metadata": {},
   "outputs": [
    {
     "output_type": "error",
     "ename": "PermissionError",
     "evalue": "[Errno 13] Permission denied: './'",
     "traceback": [
      "\u001b[1;31m---------------------------------------------------------------------------\u001b[0m",
      "\u001b[1;31mPermissionError\u001b[0m                           Traceback (most recent call last)",
      "\u001b[1;32m<ipython-input-18-510c6a27f9d1>\u001b[0m in \u001b[0;36m<module>\u001b[1;34m\u001b[0m\n\u001b[0;32m      8\u001b[0m \u001b[1;33m\u001b[0m\u001b[0m\n\u001b[0;32m      9\u001b[0m '''\n\u001b[1;32m---> 10\u001b[1;33m \u001b[0mzip_file\u001b[0m \u001b[1;33m=\u001b[0m \u001b[0mzipfile\u001b[0m\u001b[1;33m.\u001b[0m\u001b[0mZipFile\u001b[0m\u001b[1;33m(\u001b[0m\u001b[0mpath\u001b[0m\u001b[1;33m)\u001b[0m\u001b[1;33m\u001b[0m\u001b[1;33m\u001b[0m\u001b[0m\n\u001b[0m\u001b[0;32m     11\u001b[0m \u001b[0mzip_list\u001b[0m \u001b[1;33m=\u001b[0m \u001b[0mzip_file\u001b[0m\u001b[1;33m.\u001b[0m\u001b[0mnamelist\u001b[0m\u001b[1;33m(\u001b[0m\u001b[1;33m)\u001b[0m \u001b[1;31m# 得到压缩包里所有文件\u001b[0m\u001b[1;33m\u001b[0m\u001b[1;33m\u001b[0m\u001b[0m\n\u001b[0;32m     12\u001b[0m \u001b[1;33m\u001b[0m\u001b[0m\n",
      "\u001b[1;32mD:\\ProgramData\\Anaconda3\\envs\\TF2.1\\lib\\zipfile.py\u001b[0m in \u001b[0;36m__init__\u001b[1;34m(self, file, mode, compression, allowZip64, compresslevel, strict_timestamps)\u001b[0m\n\u001b[0;32m   1237\u001b[0m             \u001b[1;32mwhile\u001b[0m \u001b[1;32mTrue\u001b[0m\u001b[1;33m:\u001b[0m\u001b[1;33m\u001b[0m\u001b[1;33m\u001b[0m\u001b[0m\n\u001b[0;32m   1238\u001b[0m                 \u001b[1;32mtry\u001b[0m\u001b[1;33m:\u001b[0m\u001b[1;33m\u001b[0m\u001b[1;33m\u001b[0m\u001b[0m\n\u001b[1;32m-> 1239\u001b[1;33m                     \u001b[0mself\u001b[0m\u001b[1;33m.\u001b[0m\u001b[0mfp\u001b[0m \u001b[1;33m=\u001b[0m \u001b[0mio\u001b[0m\u001b[1;33m.\u001b[0m\u001b[0mopen\u001b[0m\u001b[1;33m(\u001b[0m\u001b[0mfile\u001b[0m\u001b[1;33m,\u001b[0m \u001b[0mfilemode\u001b[0m\u001b[1;33m)\u001b[0m\u001b[1;33m\u001b[0m\u001b[1;33m\u001b[0m\u001b[0m\n\u001b[0m\u001b[0;32m   1240\u001b[0m                 \u001b[1;32mexcept\u001b[0m \u001b[0mOSError\u001b[0m\u001b[1;33m:\u001b[0m\u001b[1;33m\u001b[0m\u001b[1;33m\u001b[0m\u001b[0m\n\u001b[0;32m   1241\u001b[0m                     \u001b[1;32mif\u001b[0m \u001b[0mfilemode\u001b[0m \u001b[1;32min\u001b[0m \u001b[0mmodeDict\u001b[0m\u001b[1;33m:\u001b[0m\u001b[1;33m\u001b[0m\u001b[1;33m\u001b[0m\u001b[0m\n",
      "\u001b[1;31mPermissionError\u001b[0m: [Errno 13] Permission denied: './'"
     ]
    }
   ],
   "source": []
  },
  {
   "cell_type": "code",
   "execution_count": 21,
   "metadata": {},
   "outputs": [
    {
     "output_type": "stream",
     "name": "stdout",
     "text": [
      "ad asd asd123 123  \n"
     ]
    }
   ],
   "source": [
    "def get_pagename(md_name):\n",
    "    #从输出的md文件读出真实文件名\n",
    "    for i,c in enumerate(md_name[::-1]):\n",
    "        if(c==' '):\n",
    "            last=len(md_name)-i-1\n",
    "            break\n",
    "    return md_name[0:last]\n",
    "print(get_pagename('ad asd asd123 123   12412aasdsdsd'))"
   ]
  },
  {
   "cell_type": "code",
   "execution_count": 23,
   "metadata": {},
   "outputs": [
    {
     "output_type": "stream",
     "name": "stdout",
     "text": [
      "./Export-4af20538-4cb3-4b7d-ad7b-e160469f0855.zip\n./Export-54162f41-cfa9-4571-805c-c2752e72c9be.zip\n./Export-71698039-552c-4bc2-9ec9-b2e3ff40ede5.zip\nMobileV4 工作文档 fec4457c424b46508e31a8eb046c88eb.md\nMobileV4 工作文档 fec4457c424b46508e31a8eb046c88eb/Untitled.png\nMobileV4 工作文档 fec4457c424b46508e31a8eb046c88eb/Untitled 1.png\nMobileV4 工作文档 fec4457c424b46508e31a8eb046c88eb/Untitled 2.png\nMobileV4 工作文档 fec4457c424b46508e31a8eb046c88eb/Untitled 3.png\nMobileV4 工作文档 fec4457c424b46508e31a8eb046c88eb/Untitled 4.png\nMobileV4 工作文档 fec4457c424b46508e31a8eb046c88eb/mobile_Android.xd\nMobileV4 工作文档 fec4457c424b46508e31a8eb046c88eb/Mobile_Lite_PRD.pdf\nMobileV4 工作文档 fec4457c424b46508e31a8eb046c88eb/Mobile_Lite_PRD 1.pdf\nMobileV4 工作文档 fec4457c424b46508e31a8eb046c88eb/Untitled 5.png\nMobileV4 工作文档 fec4457c424b46508e31a8eb046c88eb/Untitled 6.png\nMobileV4 工作文档 fec4457c424b46508e31a8eb046c88eb/Untitled 7.png\nMobileV4 工作文档 fec4457c424b46508e31a8eb046c88eb/Untitled 8.png\nMobileV4 工作文档 fec4457c424b46508e31a8eb046c88eb/Untitled 9.png\n"
     ]
    }
   ],
   "source": [
    "import os\n",
    "import zipfile\n",
    "\n",
    "root_path = \"./\" #待搜索的目录路径\n",
    "filename = \".zip\" #待搜索的名称\n",
    "result = [] #定义保存结果的数组\n",
    "folder_abs = \"./\"\n",
    "\n",
    "def findfiles(files_path, files_list):\n",
    "    #查找文件代码\n",
    "    files = os.listdir(files_path)\n",
    "    for s in files:\n",
    "        s_path = os.path.join(files_path, s)\n",
    "        if os.path.isdir(s_path):\n",
    "            findfiles(s_path, files_list)\n",
    "        elif os.path.isfile(s_path) and filename in s:\n",
    "            result.append(s_path)\n",
    "\n",
    "findfiles(root_path,result)\n",
    "for i in range(len(result)):\n",
    "    print(result[i])\n",
    "    # print(\"[{} ,\".format(i)+\"'\"+result[i]+\"\\']\")\n",
    "\n",
    "'''\n",
    "基本格式：zipfile.ZipFile(filename[,mode[,compression[,allowZip64]]])\n",
    "mode：可选 r,w,a 代表不同的打开文件的方式；r 只读；w 重写；a 添加\n",
    "compression：指出这个 zipfile 用什么压缩方法，默认是 ZIP_STORED，另一种选择是 ZIP_DEFLATED；\n",
    "allowZip64：bool型变量，当设置为True时可以创建大于 2G 的 zip 文件，默认值 True；\n",
    "'''\n",
    "\n",
    "zip_file = zipfile.ZipFile(result[0])\n",
    "zip_list = zip_file.namelist() # 得到压缩包里所有文件\n",
    "\n",
    "for f in zip_list:\n",
    "    print(f)\n",
    "    zip_file.extract(f, folder_abs) # 循环解压文件到指定目录\n",
    " \n",
    "zip_file.close() # 关闭文件，必须有，释放内存"
   ]
  },
  {
   "cell_type": "code",
   "execution_count": 26,
   "metadata": {},
   "outputs": [
    {
     "output_type": "stream",
     "name": "stdout",
     "text": [
      "123 asd asdaaa\n\n123 123 123aaa\n\nasdasdasdasdaaaaaaaa-asd    498498498\n\n123123123123aaaaaaaa-123    498498498\n\nsaaaaaaaaaaddddddddddddddddd\n\nsaaaaaaaaaaddddddddddddddddd\n\n"
     ]
    }
   ],
   "source": [
    "def replace_str_infile(filename,oldstr,newstr):\n",
    "    #替换文件中的字符串 # 目前仅支持在一行的准确替换\n",
    "    newlines = []\n",
    "    with open(filename, 'r') as f:\n",
    "        lines = f.readlines()\n",
    "    for line in lines:\n",
    "        print(line)\n",
    "        line=line.replace(oldstr,newstr)\n",
    "        print(line)\n",
    "        newlines.append(line)\n",
    "    with open(filename, 'w') as n:\n",
    "        n.writelines(newlines)\n",
    "replace_str_infile('a','asd','123')"
   ]
  },
  {
   "cell_type": "code",
   "execution_count": 36,
   "metadata": {},
   "outputs": [],
   "source": [
    "import os\n",
    "import zipfile\n",
    "import datetime as dt\n",
    "import urllib.parse as parse #for uni2ascii\n",
    "\n",
    "root_path = \"./\" #待搜索的目录路径\n",
    "include_str = \".zip\" #待搜索的名称\n",
    "result = [] #定义保存结果的数组\n",
    "decode_type = 'utf-8' #md的编码格式\n",
    "\n",
    "def get_pagename(md_name):\n",
    "    #从输出的md文件读出真实文件名\n",
    "    for i,c in enumerate(md_name[::-1]):\n",
    "        if(c==' '):\n",
    "            last=len(md_name)-i-1\n",
    "            break\n",
    "    return md_name[0:last]\n",
    "\n",
    "def uni2ascii(uni):\n",
    "    #unicode转为类似%23%21这样的浏览器传输格式\n",
    "    return parse.quote(uni, encoding=\"UTF-8\")\n",
    "\n",
    "def add_to_top(file_name, top_lines):\n",
    "    #追加top_lines到file的开头\n",
    "    with open(file_name, 'r', encoding=decode_type) as f:\n",
    "        lines = f.readlines()\n",
    "    with open(file_name, 'w', encoding=decode_type) as n:\n",
    "        n.writelines(top_lines + lines)\n",
    "\n",
    "def findfiles(files_path, files_list):\n",
    "    #查找文件代码\n",
    "    files = os.listdir(files_path)\n",
    "    for s in files:\n",
    "        s_path = os.path.join(files_path, s)\n",
    "        if os.path.isdir(s_path):\n",
    "            findfiles(s_path, files_list)\n",
    "        elif os.path.isfile(s_path) and include_str in s:\n",
    "            result.append(s_path)\n",
    "\n",
    "'''\n",
    "基本格式：zipfile.ZipFile(filename[,mode[,compression[,allowZip64]]])\n",
    "mode：可选 r,w,a 代表不同的打开文件的方式；r 只读；w 重写；a 添加\n",
    "compression：指出这个 zipfile 用什么压缩方法，默认是 ZIP_STORED，另一种选择是 ZIP_DEFLATED；\n",
    "allowZip64：bool型变量，当设置为True时可以创建大于 2G 的 zip 文件，默认值 True；\n",
    "'''\n",
    "def extract_zip(zip_full_name,extract_folder):\n",
    "    #解压指定zip到指定文件夹，返回所有文件的list\n",
    "    zip_file = zipfile.ZipFile(zip_full_name)\n",
    "    zip_list = zip_file.namelist() #得到压缩包里所有文件\n",
    "    for f in zip_list:\n",
    "        zip_file.extract(f, extract_folder) #循环解压文件到指定目录\n",
    "    zip_file.close() #关闭文件，必须有，释放内存\n",
    "    return zip_list\n",
    "\n",
    "def get_longname_from_list(notion_ext_list):\n",
    "    for s in notion_ext_list:\n",
    "        if '.md' in s and not ('/' in s): #todo以后改成远路径之后换成/最小的那个文件 或者其实解压的第一个一般就是md\n",
    "            l=len(s)\n",
    "            return s[:l-3]\n",
    "\n",
    "def change_names_of_folderandmd(oldname,newname):\n",
    "    #rename folderAndMd\n",
    "    os.rename(oldname,newname)\n",
    "    os.rename(oldname+'.md',newname+'.md')\n",
    "\n",
    "def replace_str_infile(filename,oldstr,newstr):\n",
    "    #替换文件中的字符串 # 目前仅支持在一行的准确替换\n",
    "    newlines = []\n",
    "    with open(filename, 'r', encoding=decode_type) as f:\n",
    "        lines = f.readlines()\n",
    "    for line in lines:\n",
    "        line=line.replace(oldstr,newstr)\n",
    "        newlines.append(line)\n",
    "    with open(filename, 'w', encoding=decode_type) as n:\n",
    "        n.writelines(newlines)\n",
    "\n",
    "def get_top_lines(pagename):\n",
    "    #title, date, typora\n",
    "    top_lines = ['---\\r\\n']\n",
    "    top_lines += ['title: '+pagename+'\\r\\n']\n",
    "    now_time = dt.datetime.now().strftime('%F %T') #todo或许改进成可以自己设定时间\n",
    "    top_lines += ['date: '+now_time+'\\r\\n']\n",
    "    top_lines += ['typora-root-url: '+pagename+'\\r\\n']\n",
    "    top_lines += ['---\\r\\n']\n",
    "    return top_lines\n",
    "\n",
    "def modify_md(pagename,longname):\n",
    "    #处理md文件\n",
    "    mdname=pagename+'.md'\n",
    "    replace_str_infile(mdname,uni2ascii(longname)+'/','') #可能得考虑到%的干扰\n",
    "    top_lines=get_top_lines(pagename)\n",
    "    add_to_top(mdname,top_lines)\n",
    "\n",
    "def cope_with_one_zip(zip_full_name):\n",
    "    #为blog处理一个notionZip\n",
    "    ext_list=extract_zip(zip_full_name,root_path)\n",
    "    longname=get_longname_from_list(ext_list)\n",
    "    pagename=get_pagename(longname)\n",
    "    change_names_of_folderandmd(longname,pagename)\n",
    "    modify_md(pagename,longname)\n",
    "\n",
    "# findfiles(root_path,result)\n",
    "# for i in range(len(result)):\n",
    "#     cope_with_one_zip(result[i])\n",
    "#     print('Done '+result[i])\n",
    "\n",
    "cope_with_one_zip('Export-4af20538-4cb3-4b7d-ad7b-e160469f0855.zip')"
   ]
  },
  {
   "cell_type": "code",
   "execution_count": null,
   "metadata": {},
   "outputs": [],
   "source": []
  }
 ]
}